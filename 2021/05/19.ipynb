{
  "nbformat": 4,
  "nbformat_minor": 0,
  "metadata": {
    "colab": {
      "name": "Untitled1.ipynb",
      "provenance": [],
      "collapsed_sections": [],
      "authorship_tag": "ABX9TyOSUf2LsQU4ZzgUYbAcILQP",
      "include_colab_link": true
    },
    "kernelspec": {
      "name": "python3",
      "display_name": "Python 3"
    },
    "language_info": {
      "name": "python"
    }
  },
  "cells": [
    {
      "cell_type": "markdown",
      "metadata": {
        "id": "view-in-github",
        "colab_type": "text"
      },
      "source": [
        "<a href=\"https://colab.research.google.com/github/KimHoyJoon/CAU-assignment/blob/main/2021/05/19.ipynb\" target=\"_parent\"><img src=\"https://colab.research.google.com/assets/colab-badge.svg\" alt=\"Open In Colab\"/></a>"
      ]
    },
    {
      "cell_type": "code",
      "metadata": {
        "colab": {
          "base_uri": "https://localhost:8080/"
        },
        "id": "KlEw9IH6V9ds",
        "outputId": "f1b2acd8-c38e-4924-d47d-3a9b026ab5b0"
      },
      "source": [
        "print('********************************************\\n1. Display subway line information ( Line 1 ~ 4 )\\n2. Display subway station imformation\\n3. Exit\\n********************************************\\nPlease choose one of the options (1 ~ 3): ')\n",
        "\n",
        "\n",
        "\n",
        "\n",
        "\n",
        "\n",
        "###################################################################################################"
      ],
      "execution_count": 8,
      "outputs": [
        {
          "output_type": "stream",
          "text": [
            "********************************************\n",
            "1. Display subway line information ( Line 1 ~ 4 )\n",
            "2. Display subway station imformation\n",
            "3. Exit\n",
            "********************************************\n",
            "Please choose one of the options (1 ~ 3): \n",
            "True\n",
            "False\n"
          ],
          "name": "stdout"
        }
      ]
    }
  ]
}